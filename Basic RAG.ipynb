{
 "cells": [
  {
   "cell_type": "markdown",
   "id": "59232a99",
   "metadata": {},
   "source": [
    "This notebook contains two sections\n",
    "\n",
    "1. Implementing simple RAG with langchain\n",
    "2. Technical information behind RAG"
   ]
  },
  {
   "cell_type": "markdown",
   "id": "2d520245",
   "metadata": {},
   "source": [
    "### RAG with langchain"
   ]
  },
  {
   "cell_type": "code",
   "execution_count": 14,
   "id": "f5255004",
   "metadata": {},
   "outputs": [],
   "source": [
    "from langchain.document_loaders import PyPDFLoader\n",
    "from langchain.vectorstores.chroma import Chroma\n",
    "from langchain.embeddings import HuggingFaceBgeEmbeddings\n",
    "from langchain.text_splitter import RecursiveCharacterTextSplitter"
   ]
  },
  {
   "cell_type": "markdown",
   "id": "a439fc58",
   "metadata": {},
   "source": [
    "#### Initializing embeddings"
   ]
  },
  {
   "cell_type": "code",
   "execution_count": 4,
   "id": "7006637b",
   "metadata": {},
   "outputs": [
    {
     "name": "stderr",
     "output_type": "stream",
     "text": [
      "C:\\Users\\smukthiyar\\Anaconda3\\lib\\site-packages\\bitsandbytes\\cextension.py:34: UserWarning: The installed version of bitsandbytes was compiled without GPU support. 8-bit optimizers, 8-bit multiplication, and GPU quantization are unavailable.\n",
      "  warn(\"The installed version of bitsandbytes was compiled without GPU support. \"\n"
     ]
    },
    {
     "name": "stdout",
     "output_type": "stream",
     "text": [
      "'NoneType' object has no attribute 'cadam32bit_grad_fp32'\n"
     ]
    }
   ],
   "source": [
    "# In this one, am using BGE embeddings which is opensource.\n",
    "# BGE Embeddings\n",
    "\n",
    "model_name = \"BAAI/bge-small-en-v1.5\"\n",
    "encode_kwargs = {'normalize_embeddings': True}\n",
    "\n",
    "bge_embeddings = HuggingFaceBgeEmbeddings(\n",
    "    model_name = model_name,\n",
    "    encode_kwargs=encode_kwargs,\n",
    "    model_kwargs={'device':'cpu'}\n",
    ")"
   ]
  },
  {
   "cell_type": "markdown",
   "id": "a3941e08",
   "metadata": {},
   "source": [
    "### Loading data and chunking data"
   ]
  },
  {
   "cell_type": "code",
   "execution_count": 7,
   "id": "0eca5abf",
   "metadata": {},
   "outputs": [],
   "source": [
    "loader = PyPDFLoader('Climate change.pdf')\n",
    "\n",
    "documents = loader.load() # load function will read the pages in file"
   ]
  },
  {
   "cell_type": "code",
   "execution_count": 8,
   "id": "6248e25d",
   "metadata": {},
   "outputs": [
    {
     "name": "stdout",
     "output_type": "stream",
     "text": [
      "The number of pages in the given file is 3\n"
     ]
    }
   ],
   "source": [
    "print(f\"The number of pages in the given file is {len(documents)}\")"
   ]
  },
  {
   "cell_type": "code",
   "execution_count": 12,
   "id": "41b2d089",
   "metadata": {},
   "outputs": [
    {
     "name": "stdout",
     "output_type": "stream",
     "text": [
      " What Is Climate Change?  \n",
      " \n",
      "1. Climate change can be a natural process where temperature, rainfall, \n",
      "wind and other elements vary over decades or more. In millions of \n",
      "years, our world has been warmer and colder than it is now. But today we are experiencing rapid warming from human activities, primarily due \n",
      "to burning fossil fuels that generate greenhouse gas emiss ions.  \n",
      " \n",
      "2. Increasing greenhouse gas emissions from human activity act like a \n",
      "blanket wrapped around the earth, trapping the sun’s heat and raising \n",
      "temperatures.  \n",
      " \n",
      "3. Examples of greenhouse gas emissions that are causing climate \n",
      "change include carbon dioxide  and methane. These come from burning \n",
      "fossil fuels such as gasoline for driving a car or coal for heating a \n",
      "building. Clearing land and forests can also release carbon dioxide. Landfills for garbage are another source. Energy, industry, agriculture \n",
      "and was te disposal are among the major emitters.  \n",
      " \n",
      "4. Greenhouse gas concentrations are at their highest levels in 2 million \n",
      "years and continue to rise. As a result, the earth is about 1.1°C warmer \n",
      "than it was in the 1800s. The last decade was the warmest on recor d.  \n",
      " \n",
      "5. Many people think climate change mainly means warmer \n",
      "temperatures. But temperature rise is only the beginning of the story. \n",
      "Because the Earth is a system, where everything is connected, changes \n",
      "in one area can influence changes in all others. The consequences of \n",
      "climate change now include, among others, intense droughts, water \n",
      "scarcity, severe fires, rising sea levels, flooding, melting polar ice, catastrophic storms and declining biodiversity.  \n",
      " \n",
      "6. People are experiencing climate change in diverse wa ys. It affects our \n",
      "health, ability to grow food, housing, safety and work. Some of us are \n",
      "already more vulnerable to climate impacts, such as people living in \n"
     ]
    }
   ],
   "source": [
    "# Loading the first page in the pdf file. As you can see the 6th point is breaking.\n",
    "print(documents[0].page_content)"
   ]
  },
  {
   "cell_type": "code",
   "execution_count": 25,
   "id": "a0444eb3",
   "metadata": {},
   "outputs": [
    {
     "name": "stdout",
     "output_type": "stream",
     "text": [
      "The number of pages in the given file before splitting is 3\n",
      "-----------------------------------------------------------------------\n",
      "The number of documents after chunking with 200 is 32\n",
      "What Is Climate Change?  \n",
      " \n",
      "1. Climate change can be a natural process where temperature, rainfall, \n",
      "wind and other elements vary over decades or more. In millions of\n",
      "-----------------------------------------------------------------------\n",
      "The number of documents after chunking with 500 is 10\n",
      "What Is Climate Change?  \n",
      " \n",
      "1. Climate change can be a natural process where temperature, rainfall, \n",
      "wind and other elements vary over decades or more. In millions of \n",
      "years, our world has been warmer and colder than it is now. But today we are experiencing rapid warming from human activities, primarily due \n",
      "to burning fossil fuels that generate greenhouse gas emiss ions.  \n",
      " \n",
      "2. Increasing greenhouse gas emissions from human activity act like a\n",
      "-----------------------------------------------------------------------\n",
      "The number of documents after chunking with 1000 is 5\n",
      "What Is Climate Change?  \n",
      " \n",
      "1. Climate change can be a natural process where temperature, rainfall, \n",
      "wind and other elements vary over decades or more. In millions of \n",
      "years, our world has been warmer and colder than it is now. But today we are experiencing rapid warming from human activities, primarily due \n",
      "to burning fossil fuels that generate greenhouse gas emiss ions.  \n",
      " \n",
      "2. Increasing greenhouse gas emissions from human activity act like a \n",
      "blanket wrapped around the earth, trapping the sun’s heat and raising \n",
      "temperatures.  \n",
      " \n",
      "3. Examples of greenhouse gas emissions that are causing climate \n",
      "change include carbon dioxide  and methane. These come from burning \n",
      "fossil fuels such as gasoline for driving a car or coal for heating a \n",
      "building. Clearing land and forests can also release carbon dioxide. Landfills for garbage are another source. Energy, industry, agriculture \n",
      "and was te disposal are among the major emitters.\n",
      "-----------------------------------------------------------------------\n"
     ]
    }
   ],
   "source": [
    "print(f\"The number of pages in the given file before splitting is {len(documents)}\")\n",
    "print(\"-----------------------------------------------------------------------\")\n",
    "\n",
    "chunk_sizes = [200, 500, 1000]\n",
    "\n",
    "for chunk_size in chunk_sizes:\n",
    "    # Going with basic splitter i.e. recursivecharacter text splitter\n",
    "    text_splitter = RecursiveCharacterTextSplitter(chunk_size = chunk_size, chunk_overlap = 0)\n",
    "    split_docs = text_splitter.split_documents(documents=documents)\n",
    "    \n",
    "    print(f\"The number of documents after chunking with {chunk_size} is {len(split_docs)}\")\n",
    "    print(split_docs[0].page_content)\n",
    "    \n",
    "    print(\"-----------------------------------------------------------------------\")"
   ]
  },
  {
   "cell_type": "markdown",
   "id": "0c0ea98c",
   "metadata": {},
   "source": [
    "#### Retrieval"
   ]
  },
  {
   "cell_type": "code",
   "execution_count": 28,
   "id": "425ed1f7",
   "metadata": {},
   "outputs": [],
   "source": [
    "# adding the splitted documents to vectordatabase.\n",
    "\n",
    "# In background. The documents will be converted to vectors using embeddings. \n",
    "    # Those vectors will be length of embedding dimension and those will be stored in vectordb, in this case it is chroma."
   ]
  },
  {
   "cell_type": "code",
   "execution_count": 26,
   "id": "3c7f61c6",
   "metadata": {},
   "outputs": [],
   "source": [
    "docsearch = Chroma.from_documents(documents=split_docs, embedding=bge_embeddings)"
   ]
  },
  {
   "cell_type": "code",
   "execution_count": 27,
   "id": "d57fc7f7",
   "metadata": {},
   "outputs": [],
   "source": [
    "query = 'How do greenhouse gas emissions contribute to climate change?'"
   ]
  },
  {
   "cell_type": "code",
   "execution_count": 29,
   "id": "045066ec",
   "metadata": {},
   "outputs": [],
   "source": [
    "retriever = docsearch.as_retriever()"
   ]
  },
  {
   "cell_type": "code",
   "execution_count": 31,
   "id": "c6e9e986",
   "metadata": {},
   "outputs": [],
   "source": [
    "search_results = retriever.get_relevant_documents(query=query)"
   ]
  },
  {
   "cell_type": "code",
   "execution_count": 34,
   "id": "d5de7e36",
   "metadata": {},
   "outputs": [
    {
     "name": "stdout",
     "output_type": "stream",
     "text": [
      "The number of results retrieved from semantic search is 4\n"
     ]
    }
   ],
   "source": [
    "# by default, langchain retrieves 4 results from semantic search.\n",
    "print(f\"The number of results retrieved from semantic search is {len(search_results)}\")"
   ]
  },
  {
   "cell_type": "code",
   "execution_count": 35,
   "id": "a111502a",
   "metadata": {},
   "outputs": [
    {
     "name": "stdout",
     "output_type": "stream",
     "text": [
      "What Is Climate Change?  \n",
      " \n",
      "1. Climate change can be a natural process where temperature, rainfall, \n",
      "wind and other elements vary over decades or more. In millions of \n",
      "years, our world has been warmer and colder than it is now. But today we are experiencing rapid warming from human activities, primarily due \n",
      "to burning fossil fuels that generate greenhouse gas emiss ions.  \n",
      " \n",
      "2. Increasing greenhouse gas emissions from human activity act like a \n",
      "blanket wrapped around the earth, trapping the sun’s heat and raising \n",
      "temperatures.  \n",
      " \n",
      "3. Examples of greenhouse gas emissions that are causing climate \n",
      "change include carbon dioxide  and methane. These come from burning \n",
      "fossil fuels such as gasoline for driving a car or coal for heating a \n",
      "building. Clearing land and forests can also release carbon dioxide. Landfills for garbage are another source. Energy, industry, agriculture \n",
      "and was te disposal are among the major emitters.\n"
     ]
    }
   ],
   "source": [
    "print(search_results[0].page_content)"
   ]
  },
  {
   "cell_type": "code",
   "execution_count": null,
   "id": "e66b3ce6",
   "metadata": {},
   "outputs": [],
   "source": []
  },
  {
   "cell_type": "markdown",
   "id": "c6f70027",
   "metadata": {},
   "source": [
    "**the semantic search results will be passed to LLM to get an actual answer for the question from the results.**"
   ]
  },
  {
   "cell_type": "code",
   "execution_count": null,
   "id": "f380f13f",
   "metadata": {},
   "outputs": [],
   "source": []
  },
  {
   "cell_type": "markdown",
   "id": "5baa48fc",
   "metadata": {},
   "source": [
    "### Technical details"
   ]
  },
  {
   "cell_type": "code",
   "execution_count": 81,
   "id": "3780bee2",
   "metadata": {},
   "outputs": [],
   "source": [
    "import numpy as np"
   ]
  },
  {
   "cell_type": "code",
   "execution_count": 63,
   "id": "c29fe464",
   "metadata": {},
   "outputs": [],
   "source": [
    "# iterating over all split document and generating an embedding\n",
    "\n",
    "embed_documents = []\n",
    "\n",
    "for document in split_docs:\n",
    "    embed = bge_embeddings.embed_documents([document.page_content])\n",
    "    embed_documents.append(embed[0])\n",
    "\n",
    "\n",
    "# Converting the query to vectors using bge embeddings\n",
    "\n",
    "query_embedding = embed_documents.append(bge_embeddings.embed_query(query))"
   ]
  },
  {
   "cell_type": "code",
   "execution_count": 64,
   "id": "e9122d77",
   "metadata": {},
   "outputs": [
    {
     "data": {
      "text/plain": [
       "(6, 384)"
      ]
     },
     "execution_count": 64,
     "metadata": {},
     "output_type": "execute_result"
    }
   ],
   "source": [
    "embedding_documents = np.array(embed_documents)\n",
    "embedding_documents.shape"
   ]
  },
  {
   "cell_type": "code",
   "execution_count": 51,
   "id": "6aeca2b8",
   "metadata": {},
   "outputs": [
    {
     "data": {
      "text/plain": [
       "array([-2.09026914e-02,  2.41325218e-02,  3.47144529e-02,  8.01892281e-02,\n",
       "        1.21937767e-01,  5.23743313e-03,  2.10171379e-02, -4.47133742e-02,\n",
       "       -1.81106497e-02,  3.72645073e-02,  1.18237184e-02, -4.33023907e-02,\n",
       "       -2.16636416e-02, -1.12666123e-04, -2.86479723e-02,  2.15236656e-02,\n",
       "       -6.75941482e-02, -4.85172570e-02, -6.13422738e-03, -4.92950268e-02,\n",
       "        5.28601557e-02,  6.16836846e-02, -4.02581617e-02, -1.78723633e-02,\n",
       "        2.12931950e-02,  2.29907222e-02,  1.15721328e-02, -9.03839432e-03,\n",
       "       -2.02401541e-02, -1.30943954e-01,  4.36665118e-02, -7.11836386e-03,\n",
       "       -3.80784534e-02,  7.96340685e-03,  1.30936783e-02,  4.02346887e-02,\n",
       "       -2.86187185e-03, -2.40954477e-02, -5.91100976e-02,  4.39455882e-02,\n",
       "        1.19795650e-02, -1.59258712e-02,  1.97386201e-02, -1.08917169e-01,\n",
       "       -2.60225646e-02,  4.00598049e-02, -1.78481489e-02,  2.23315116e-02,\n",
       "       -4.81720679e-02, -5.81856631e-02,  7.18309963e-03,  2.25293338e-02,\n",
       "       -7.18390271e-02,  3.16219591e-02,  1.08192032e-02,  1.75055079e-02,\n",
       "        9.50052440e-02,  1.68039538e-02,  4.21219394e-02, -5.06379120e-02,\n",
       "        2.90630497e-02,  1.22725712e-02, -1.56981960e-01,  1.85193550e-02,\n",
       "        4.77371328e-02,  3.18104289e-02,  1.28440252e-02, -1.31753844e-03,\n",
       "        1.01095270e-02, -3.19678448e-02, -6.44736066e-02, -2.22001411e-02,\n",
       "       -8.46796483e-03,  3.80390584e-02,  3.11480965e-02,  1.90125778e-02,\n",
       "       -7.07395002e-02, -1.00485627e-02, -8.49390053e-04, -5.69495708e-02,\n",
       "        5.20785041e-02,  1.06910013e-01, -3.41517329e-02, -3.25026885e-02,\n",
       "        3.08285858e-02, -2.70654559e-02,  4.23581898e-03,  1.23051433e-02,\n",
       "        1.12196775e-02, -2.55474988e-02, -3.34434062e-02, -6.74123061e-04,\n",
       "        2.08397508e-02,  3.17140967e-02, -2.58921888e-02,  5.85219897e-02,\n",
       "        8.71514976e-02, -1.47244576e-02,  2.38123909e-02,  3.71754795e-01,\n",
       "       -2.98410021e-02,  4.65525761e-02,  2.21399292e-02,  4.78945263e-02,\n",
       "        6.36604382e-03,  3.58029604e-02,  2.32142825e-02,  2.58425791e-02,\n",
       "        7.13481382e-03,  3.14971283e-02,  4.00530919e-03, -6.38819439e-03,\n",
       "        1.05288643e-02, -1.92201100e-02, -1.66609306e-02, -1.46174476e-01,\n",
       "        7.95968994e-03,  4.35477160e-02, -2.39225607e-02,  3.15276682e-02,\n",
       "       -1.52339833e-02,  3.69841866e-02,  5.73645383e-02,  7.93394540e-03,\n",
       "        7.96995610e-02,  2.36655064e-02,  2.40163412e-02,  8.00459236e-02,\n",
       "        3.81916352e-02, -7.97833875e-03,  5.04266471e-02, -1.31281652e-02,\n",
       "       -5.94989173e-02,  1.05147306e-02,  1.13912602e-03, -2.90209875e-02,\n",
       "       -3.46608204e-03,  6.29155412e-02, -3.11659593e-02,  5.03212921e-02,\n",
       "        1.21515070e-03,  2.70968452e-02, -3.29271518e-02, -1.32265821e-01,\n",
       "       -5.85119464e-02,  4.51659001e-02,  3.11423689e-02,  4.71919738e-02,\n",
       "       -7.39421025e-02,  1.67688038e-02,  1.78595874e-04,  4.40208875e-02,\n",
       "       -2.17873957e-02, -3.51096358e-04,  8.58800262e-02,  1.79493483e-02,\n",
       "        3.37317735e-02, -7.53922760e-02,  2.53319200e-02, -1.47515386e-02,\n",
       "        2.53397948e-03,  1.04227448e-02, -7.56610231e-03,  1.54454112e-02,\n",
       "        1.14460394e-01, -1.57047417e-02, -8.09087604e-03, -2.11606640e-02,\n",
       "       -8.77453480e-03,  2.70097367e-02,  3.91575024e-02,  4.15586047e-02,\n",
       "       -1.46436570e-02, -7.26813823e-02,  9.15119797e-02, -4.05886723e-03,\n",
       "       -3.19421035e-03,  1.37808332e-02,  4.06316556e-02,  2.32609008e-02,\n",
       "        2.84151249e-02, -2.44700145e-02, -2.70072762e-02, -8.65102001e-03,\n",
       "        6.77707717e-02, -6.17780164e-02, -7.85873309e-02, -1.19802114e-02,\n",
       "        1.27862496e-02,  5.66050364e-03, -1.27088064e-02,  1.51976552e-02,\n",
       "        2.84528211e-02,  3.02340649e-02, -3.10321897e-02, -3.41669261e-03,\n",
       "        2.67696809e-02, -1.90160610e-02,  4.35605273e-02, -2.74887774e-02,\n",
       "       -2.35278998e-02,  4.71614272e-04, -2.25949250e-02, -5.32121547e-02,\n",
       "       -1.21515216e-02, -2.55490318e-02,  7.52468884e-04, -2.26529706e-02,\n",
       "        3.36402692e-02,  2.12185662e-02, -1.69273857e-02,  4.06214036e-02,\n",
       "       -1.17169069e-02,  9.46444366e-03,  2.29295641e-02, -3.73799056e-02,\n",
       "       -1.30163142e-02,  8.78225081e-03,  5.67167178e-02, -1.51909888e-02,\n",
       "        7.16255382e-02, -1.12318471e-01, -1.05077941e-02, -2.90690511e-01,\n",
       "       -7.37730637e-02,  4.97062597e-03, -4.82438765e-02,  7.56229088e-02,\n",
       "       -9.48324567e-04, -4.19173539e-02, -7.04914704e-02, -4.05453444e-02,\n",
       "        5.77609725e-02,  4.66472097e-02, -5.75401932e-02,  1.12087121e-02,\n",
       "       -3.45777385e-02,  5.22327647e-02, -6.34455532e-02, -2.61075627e-02,\n",
       "       -5.78701682e-02, -3.13379727e-02, -6.57996116e-03, -8.02061930e-02,\n",
       "       -5.03769629e-02,  1.05640935e-02, -9.66158658e-02,  4.95573226e-03,\n",
       "       -2.34360918e-02,  4.98038456e-02, -7.22610950e-02,  4.48644534e-02,\n",
       "       -7.91764446e-03, -1.78769336e-03, -1.66625846e-02,  3.74443047e-02,\n",
       "       -1.02160439e-01,  2.13477276e-02, -1.76663208e-03, -2.32390482e-02,\n",
       "       -1.98783278e-02, -1.03301480e-01, -2.78930645e-02,  1.17506292e-02,\n",
       "        2.71366201e-02, -3.90479453e-02,  1.28021419e-01,  3.76511738e-02,\n",
       "        1.14796096e-02, -1.73678994e-03,  1.05464524e-02,  1.38765164e-02,\n",
       "       -2.12970674e-02,  1.17555978e-02,  9.02488902e-02, -3.91290523e-03,\n",
       "       -1.28658945e-02, -2.13037673e-02,  1.79898012e-02, -2.44374550e-03,\n",
       "        4.59799953e-02,  6.05411734e-03, -3.28048319e-02,  2.13768780e-02,\n",
       "       -2.55750492e-02,  1.44762089e-02, -1.87212639e-02,  8.83370731e-03,\n",
       "        1.60243474e-02, -1.75305419e-02, -6.55888915e-02, -2.14835200e-02,\n",
       "        9.22376476e-03, -9.08845512e-04,  1.27470911e-01, -2.97153071e-02,\n",
       "       -5.03703952e-02,  3.50004472e-02, -4.68352204e-03, -2.24550795e-02,\n",
       "       -5.60135059e-02, -7.02734143e-02,  3.12766153e-03,  6.61780883e-04,\n",
       "       -7.85812885e-02,  8.42982903e-03,  2.86172610e-02, -3.59878466e-02,\n",
       "        1.94772203e-02, -1.93821583e-02, -7.34203905e-02,  2.54832339e-02,\n",
       "       -1.53482473e-02,  6.88541650e-06, -2.97581218e-02,  5.09023527e-03,\n",
       "       -8.66785496e-02,  1.47793414e-02, -2.18024086e-02, -1.98299989e-01,\n",
       "       -1.21081341e-02, -7.10363546e-03,  2.08792556e-02,  9.68539171e-05,\n",
       "       -5.01490720e-02, -2.32517067e-02,  7.82536417e-02,  1.83348134e-02,\n",
       "        3.19710188e-02, -7.23271295e-02,  1.06618460e-02, -1.39819309e-02,\n",
       "        8.27433988e-02,  3.49440649e-02,  7.64666796e-02,  4.65723053e-02,\n",
       "       -3.40355746e-02, -1.47779211e-02,  8.17558169e-03,  5.18261269e-02,\n",
       "       -3.24686849e-03,  1.37917042e-01,  2.05423702e-02,  7.61243468e-03,\n",
       "        3.39406952e-02, -4.03344147e-02,  3.42701450e-02,  6.59982488e-02,\n",
       "        6.81925984e-03,  8.43483508e-02,  1.43233230e-02,  4.13511135e-02,\n",
       "        1.64429918e-02,  2.22457889e-02,  1.61517262e-02,  2.76457276e-02,\n",
       "       -1.85982753e-02,  2.19006669e-02, -3.29798162e-02, -5.83446808e-02,\n",
       "        2.69101467e-02,  4.02598083e-02, -7.96584412e-03,  7.70898387e-02,\n",
       "       -5.16547561e-02,  2.79377792e-02, -1.31110013e-01, -2.07139757e-02,\n",
       "        3.42968740e-02, -4.92125265e-02,  2.24126931e-02, -1.55234579e-02,\n",
       "        4.62586544e-02, -7.25640822e-03,  1.16642844e-02, -2.83965468e-02,\n",
       "       -2.93897931e-02, -7.81937130e-03,  2.89993696e-02,  5.63713312e-02,\n",
       "       -5.19000813e-02, -6.35854974e-02,  3.24550550e-03,  3.63484398e-02])"
      ]
     },
     "execution_count": 51,
     "metadata": {},
     "output_type": "execute_result"
    }
   ],
   "source": [
    "np.array(embed_documents[0])"
   ]
  },
  {
   "cell_type": "markdown",
   "id": "d0078c91",
   "metadata": {},
   "source": [
    "#### to visualize the embeddings of 384 dimensions. let's visualize in 2d by using PCA which a dimensional reduction algorithm which uses eigen values and eigen vector.\n",
    "\n",
    "**Note: Only for visualizaton, am doing dimensional reduction to see the vectors**"
   ]
  },
  {
   "cell_type": "code",
   "execution_count": 65,
   "id": "1d227aa0",
   "metadata": {},
   "outputs": [],
   "source": [
    "from sklearn.decomposition import PCA"
   ]
  },
  {
   "cell_type": "code",
   "execution_count": 66,
   "id": "ceab0906",
   "metadata": {},
   "outputs": [],
   "source": [
    "pca_model = PCA(n_components=2)\n",
    "\n",
    "pca_model.fit(embedding_documents)\n",
    "\n",
    "new_values = pca_model.transform(embedding_documents)"
   ]
  },
  {
   "cell_type": "code",
   "execution_count": 67,
   "id": "5288d3aa",
   "metadata": {},
   "outputs": [
    {
     "data": {
      "text/plain": [
       "array([[-0.24983496, -0.14510652],\n",
       "       [-0.11581657,  0.21539551],\n",
       "       [ 0.02639215,  0.40410691],\n",
       "       [ 0.22253573, -0.20704326],\n",
       "       [ 0.39753985, -0.07514342],\n",
       "       [-0.2808162 , -0.19220922]])"
      ]
     },
     "execution_count": 67,
     "metadata": {},
     "output_type": "execute_result"
    }
   ],
   "source": [
    "new_values"
   ]
  },
  {
   "cell_type": "code",
   "execution_count": 68,
   "id": "b073499f",
   "metadata": {},
   "outputs": [
    {
     "data": {
      "image/png": "[encoded data removed]",
      "text/plain": [
       "<Figure size 640x480 with 1 Axes>"
      ]
     },
     "metadata": {},
     "output_type": "display_data"
    }
   ],
   "source": [
    "import matplotlib.pyplot as plt\n",
    "\n",
    "# Sample data\n",
    "x = new_values[:,0]\n",
    "y = new_values[:,1]\n",
    "labels = ['doc-1', 'doc-2', 'doc-3', 'doc-4', 'doc-5', 'query']\n",
    "\n",
    "# Create scatter plot\n",
    "plt.scatter(x, y)\n",
    "\n",
    "# Annotate points with labels\n",
    "for i, label in enumerate(labels):\n",
    "    plt.annotate(label, (x[i], y[i]), textcoords=\"offset points\", xytext=(0,10), ha='center')\n",
    "\n",
    "# Set plot title and labels\n",
    "plt.title('Scatter Plot with Annotations')\n",
    "plt.xlabel('X-axis')\n",
    "plt.ylabel('Y-axis')\n",
    "\n",
    "# Display plot\n",
    "plt.grid(False)\n",
    "plt.show()\n"
   ]
  },
  {
   "cell_type": "code",
   "execution_count": 76,
   "id": "6efc6fc2",
   "metadata": {},
   "outputs": [],
   "source": [
    "doc_dict = {'doc-1': split_docs[0],'doc-2': split_docs[1],'doc-3': split_docs[2],'doc-4': split_docs[3],'doc-5': split_docs[4],'query': query}"
   ]
  },
  {
   "cell_type": "code",
   "execution_count": 80,
   "id": "843a9c57",
   "metadata": {},
   "outputs": [
    {
     "name": "stdout",
     "output_type": "stream",
     "text": [
      "doc-1\n",
      "---------------------------------\n",
      "What Is Climate Change?  \n",
      " \n",
      "1. Climate change can be a natural process where temperature, rainfall, \n",
      "wind and other elements vary over decades or more. In millions of \n",
      "years, our world has been warmer and colder than it is now. But today we are experiencing rapid warming from human activities, primarily due \n",
      "to burning fossil fuels that generate greenhouse gas emiss ions.  \n",
      " \n",
      "2. Increasing greenhouse gas emissions from human activity act like a \n",
      "blanket wrapped around the earth, trapping the sun’s heat and raising \n",
      "temperatures.  \n",
      " \n",
      "3. Examples of greenhouse gas emissions that are causing climate \n",
      "change include carbon dioxide  and methane. These come from burning \n",
      "fossil fuels such as gasoline for driving a car or coal for heating a \n",
      "building. Clearing land and forests can also release carbon dioxide. Landfills for garbage are another source. Energy, industry, agriculture \n",
      "and was te disposal are among the major emitters.\n",
      "---------------------------------\n",
      "doc-2\n",
      "---------------------------------\n",
      "4. Greenhouse gas concentrations are at their highest levels in 2 million \n",
      "years and continue to rise. As a result, the earth is about 1.1°C warmer \n",
      "than it was in the 1800s. The last decade was the warmest on recor d.  \n",
      " \n",
      "5. Many people think climate change mainly means warmer \n",
      "temperatures. But temperature rise is only the beginning of the story. \n",
      "Because the Earth is a system, where everything is connected, changes \n",
      "in one area can influence changes in all others. The consequences of \n",
      "climate change now include, among others, intense droughts, water \n",
      "scarcity, severe fires, rising sea levels, flooding, melting polar ice, catastrophic storms and declining biodiversity.  \n",
      " \n",
      "6. People are experiencing climate change in diverse wa ys. It affects our \n",
      "health, ability to grow food, housing, safety and work. Some of us are \n",
      "already more vulnerable to climate impacts, such as people living in\n",
      "---------------------------------\n",
      "doc-3\n",
      "---------------------------------\n",
      "small island developing States. Conditions like sea -level rise and \n",
      "saltwater intrusion have advan ced to the point where whole \n",
      "communities have had to relocate. In the future, the number of “climate \n",
      "refugees” is expected to rise.  \n",
      " \n",
      "7. Every increase in global warming matters. In a 2018 report, thousands \n",
      "of scientists and government reviewers agreed that limiting global \n",
      "temperature rise to no more than 1.5°C would help us avoid the worst \n",
      "climate impacts and maintain a livable climate. Yet the current path of carbon dioxide emissions could increase global temperature by as much \n",
      "as 4.4°C by the end of the c entury.  \n",
      "8. The emissions that cause climate change come from every part of the world and affect everyone, but some countries produce much more \n",
      "than others. The 100 least -emitting countries generate 3 per cent of \n",
      "total emissions. The 10 largest emitters con tribute 68 per cent.\n",
      "---------------------------------\n",
      "doc-4\n",
      "---------------------------------\n",
      "Everyone must take climate action, but people and countries creating more of the problem have a greater responsibility to act first.  \n",
      "9. Climate change is a huge challenge, but we already know many \n",
      "solutions. These can deliver economic  benefits while improving our lives \n",
      "and protecting the environment. We also have global agreements to guide progress, such as the UN Framework Convention on Climate Change and the Paris Agreement . Three broad categories of action are: \n",
      "cut emissions, adapt to climate impacts and finance required \n",
      "adjustments.  \n",
      "10. Switching energy systems from fossil fuels to renewables like solar will reduce the emissions driving climate change. But we have to start \n",
      "right now. While a growing coalition of countries is commit ting to net \n",
      "zero emissions by 2050, about half of emissions cuts must be in place by \n",
      "2030 to keep warming below 1.5°C. Fossil fuel production must decline by roughly 6 per cent per year between 2020 and 2030.\n",
      "---------------------------------\n",
      "doc-5\n",
      "---------------------------------\n",
      "11. Adapting to climate consequences protects people, homes, \n",
      "businesses, livelihoods, infrastructure and natural ecosystems. It covers \n",
      "current impacts and those likely in the future. Adaptation will be \n",
      "required everywhere, but must be prioritized now for the most \n",
      "vulnerable people with the fewest reso urces to cope with climate \n",
      "hazards. The rate of return can be high. Early warning systems for \n",
      "disasters, for instance, save lives and property, and can deliver benefits up to 10 times the initial cost.  \n",
      "12. We can pay the bill now, or pay dearly in the fut ure. Climate action \n",
      "requires significant financial investments by governments and businesses. But climate inaction is vastly more expensive. One critical step is for industrialized countries to fulfil their commitment to provide \n",
      "$100 billion a year to deve loping countries so they can adapt and move \n",
      "towards greener economies.\n",
      "---------------------------------\n",
      "query\n",
      "---------------------------------\n",
      "How do greenhouse gas emissions contribute to climate change?\n",
      "---------------------------------\n"
     ]
    }
   ],
   "source": [
    "for doc in doc_dict:\n",
    "    print(doc)\n",
    "    print(\"---------------------------------\")\n",
    "    try:\n",
    "        print(t[doc].page_content)\n",
    "    except:\n",
    "        print(t[doc])\n",
    "    print(\"---------------------------------\")"
   ]
  },
  {
   "cell_type": "markdown",
   "id": "a9ecd3e2",
   "metadata": {},
   "source": [
    "**As you can see in the above graph that query1 is closely related to doc-1 which is correct.**"
   ]
  },
  {
   "cell_type": "markdown",
   "id": "ff540aac",
   "metadata": {},
   "source": [
    "**Cosine Similarity in RAG:**\n",
    "\n",
    "    Definition: Cosine similarity measures the similarity between two vectors in a high-dimensional space.\n",
    "    \n",
    "    Application in RAG: Used to compare the similarity between the query and documents in the retrieval process.\n",
    "    \n",
    "    Scenarios for Use:\n",
    "    \n",
    "    1. Information Retrieval: Effectively retrieves relevant information from a large corpus of documents.\n",
    "    2. Semantic Similarity: Useful for finding documents that are semantically similar to the query.\n",
    "    3. Efficient Storage and Retrieval: Optimizes storage and retrieval by using techniques like chunking and indexing.\n",
    "    4. Enhancing Model Responses: Enriches responses generated by LLMs with relevant information from external databases or knowledge graphs.\n",
    "\n",
    "\n",
    "**Maximum Marginal Relevance (MMR) in RAG:**\n",
    "\n",
    "    Definition: A technique to diversify retrieved documents and improve the overall quality of generated responses.\n",
    "    \n",
    "    Application in RAG: Balances relevance and diversity in the retrieved documents.\n",
    "    \n",
    "    Scenarios for Use:\n",
    "    1. Diverse Response Generation: Useful for generating varied and diverse responses.\n",
    "    2. Avoiding Redundancy: Helps in avoiding repetitive information in generated responses.\n",
    "    3. Balancing Relevance and Diversity: Strikes a balance between relevance and diversity in retrieved documents.\n",
    "    4. Improving User Experience: Contributes to an enhanced user experience by providing a variety of responses catering to different preferences and requirements."
   ]
  },
  {
   "cell_type": "code",
   "execution_count": null,
   "id": "6775a9c3",
   "metadata": {},
   "outputs": [],
   "source": []
  }
 ],
 "metadata": {
  "kernelspec": {
   "display_name": "Python 3 (ipykernel)",
   "language": "python",
   "name": "python3"
  },
  "language_info": {
   "codemirror_mode": {
    "name": "ipython",
    "version": 3
   },
   "file_extension": ".py",
   "mimetype": "text/x-python",
   "name": "python",
   "nbconvert_exporter": "python",
   "pygments_lexer": "ipython3",
   "version": "3.8.18"
  }
 },
 "nbformat": 4,
 "nbformat_minor": 5
}
